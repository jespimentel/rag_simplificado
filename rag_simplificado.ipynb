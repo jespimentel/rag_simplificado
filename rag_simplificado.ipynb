{
  "nbformat": 4,
  "nbformat_minor": 0,
  "metadata": {
    "colab": {
      "provenance": [],
      "mount_file_id": "1Br7h4eG47j0XwVlADcg3sAU4c29HsA17",
      "authorship_tag": "ABX9TyOyWH/Wqi13f9t3I8BuDkiz",
      "include_colab_link": true
    },
    "kernelspec": {
      "name": "python3",
      "display_name": "Python 3"
    },
    "language_info": {
      "name": "python"
    }
  },
  "cells": [
    {
      "cell_type": "markdown",
      "metadata": {
        "id": "view-in-github",
        "colab_type": "text"
      },
      "source": [
        "<a href=\"https://colab.research.google.com/github/jespimentel/rag_simplificado/blob/main/rag_simplificado.ipynb\" target=\"_parent\"><img src=\"https://colab.research.google.com/assets/colab-badge.svg\" alt=\"Open In Colab\"/></a>"
      ]
    },
    {
      "cell_type": "markdown",
      "source": [
        "## Exemplo de RAG\n",
        "### com Chroma DB e LiteLLM\n",
        "\n",
        "\n",
        "\n",
        "Baseado nos artigos:\n",
        "* https://www.nb-data.com/p/simple-rag-implementation-with-contextual\n",
        "* https://medium.com/@rahultiwari065/unlocking-the-power-of-sentence-embeddings-with-all-minilm-l6-v2-7d6589a5f0aa\n",
        "\n",
        "---"
      ],
      "metadata": {
        "id": "z0YDhXtEZ3aT"
      }
    },
    {
      "cell_type": "code",
      "execution_count": null,
      "metadata": {
        "id": "1DUR7Rv6Zw-r"
      },
      "outputs": [],
      "source": [
        "!pip install -q chromadb pypdf2 sentence-transformers litellm langchain\n",
        "!pip install -q sympy"
      ]
    },
    {
      "cell_type": "code",
      "source": [
        "import os\n",
        "import PyPDF2\n",
        "from sentence_transformers import SentenceTransformer\n",
        "import chromadb\n",
        "from chromadb.config import Settings\n",
        "import litellm\n",
        "from litellm import completion\n",
        "from langchain.text_splitter import RecursiveCharacterTextSplitter\n",
        "from IPython.display import Markdown, display\n",
        "from google.colab import userdata"
      ],
      "metadata": {
        "id": "ftjKIKC-qlGY"
      },
      "execution_count": 2,
      "outputs": []
    },
    {
      "cell_type": "code",
      "source": [
        "model = 'deepseek/deepseek-chat'\n",
        "api_key = userdata.get('DEEPSEEK_KEY')\n",
        "\n",
        "os.environ['LITELLM_LOG'] = 'DEBUG'\n",
        "\n",
        "# HUGGINGFACE_TOKEN = userdata.get('hugging_face_read')\n",
        "HF_TOKEN = userdata.get('hugging_face_read')"
      ],
      "metadata": {
        "id": "qIGZZ-Fzawpo"
      },
      "execution_count": 18,
      "outputs": []
    },
    {
      "cell_type": "code",
      "source": [
        "def extract_text_from_pdfs(folder_path):\n",
        "    all_text = \"\"\n",
        "    for filename in os.listdir(folder_path):\n",
        "        if filename.endswith(\".pdf\"):\n",
        "            file_path = os.path.join(folder_path, filename)\n",
        "            with open(file_path, 'rb') as file:\n",
        "                reader = PyPDF2.PdfReader(file)\n",
        "                for page in reader.pages:\n",
        "                    all_text += page.extract_text()\n",
        "    return all_text\n",
        "\n",
        "pdf_folder = \"/content/drive/MyDrive/pdfs_para_rag\"\n",
        "all_text = extract_text_from_pdfs(pdf_folder)"
      ],
      "metadata": {
        "id": "LNPRz81xa5UE"
      },
      "execution_count": 4,
      "outputs": []
    },
    {
      "cell_type": "code",
      "source": [
        "print(len(all_text))"
      ],
      "metadata": {
        "colab": {
          "base_uri": "https://localhost:8080/"
        },
        "id": "C7ucVZiKelzz",
        "outputId": "a0ad6139-0b13-4de3-a934-b95dd1bb4187"
      },
      "execution_count": 5,
      "outputs": [
        {
          "output_type": "stream",
          "name": "stdout",
          "text": [
            "3359036\n"
          ]
        }
      ]
    },
    {
      "cell_type": "code",
      "source": [
        "all_text[6000:7000]"
      ],
      "metadata": {
        "colab": {
          "base_uri": "https://localhost:8080/",
          "height": 143
        },
        "id": "FAGIdcB8derX",
        "outputId": "ad052a89-ff64-46a9-ab40-80df69a9efef"
      },
      "execution_count": 6,
      "outputs": [
        {
          "output_type": "execute_result",
          "data": {
            "text/plain": [
              "'......... 117 7 - Tema: Estudo do MPPE - A efetividade na tutela dos direitos humanos das vítimas ...... 124 8 - Tema: Estudo do MPPR - Planejamento investigatório .................................................... 1359 - Tema: Estudo do MPRJ - A Atuação Coletiva Especializada na Segurança Pública a partir da Resolução GPGJ nº 2.401/2021 – uma breve exposição dos casos ....................................... 143 10 - Tema: Estudo do MPRO - Estudo jurídico sobre as controvérsias atuais nas Cortes  Superiores \\nreferentes ao ingresso em domicílio sem mandado judicial .................................................. 15011 - Tema: Estudo do MPRS - Cadeia De Custódia De Whatsapp: breve considerações sobre  decisões do Superior Tribunal de Justiça ............................................................................... 158 12 - Tema: Estudo do MPSC - Destinação de verbas oriundas de prestação pecuniária  decorrente \\nde transação penal, suspensão condicional do processo e acordo de '"
            ],
            "application/vnd.google.colaboratory.intrinsic+json": {
              "type": "string"
            }
          },
          "metadata": {},
          "execution_count": 6
        }
      ]
    },
    {
      "cell_type": "code",
      "source": [
        "text_splitter = RecursiveCharacterTextSplitter(\n",
        "    chunk_size=1000,  # Size of each chunk\n",
        "    chunk_overlap=100,  # Overlap between chunks to maintain context\n",
        "    separators=[\"\\n\\n\", \"\\n\", \" \", \"\"]  # Splitting hierarchy\n",
        ")\n",
        "\n",
        "chunks = text_splitter.split_text(all_text)"
      ],
      "metadata": {
        "id": "l3QVG8l1bBRs"
      },
      "execution_count": 7,
      "outputs": []
    },
    {
      "cell_type": "code",
      "source": [
        "print(len(chunks))"
      ],
      "metadata": {
        "colab": {
          "base_uri": "https://localhost:8080/"
        },
        "id": "MQ6fz4VbetOx",
        "outputId": "af8456c4-c243-43ca-b1de-79cb156c3578"
      },
      "execution_count": 8,
      "outputs": [
        {
          "output_type": "stream",
          "name": "stdout",
          "text": [
            "3830\n"
          ]
        }
      ]
    },
    {
      "cell_type": "code",
      "source": [
        "print(chunks[2000])"
      ],
      "metadata": {
        "colab": {
          "base_uri": "https://localhost:8080/"
        },
        "id": "8SQ8JVZEewId",
        "outputId": "7705739a-46a8-4eca-abcd-f698dc239c78"
      },
      "execution_count": 9,
      "outputs": [
        {
          "output_type": "stream",
          "name": "stdout",
          "text": [
            "fato de haver denúncia contra parte dos investigados pelo crime de organização criminosa (processo \n",
            "n. 1541165 -65.2021.8.26.0050) não faz com que necessariamente haja conexão entre os feitos, \n",
            "mesmo porque ambos estão em fases notor iamente distintas da marcha processual. (ﬂs. 164/168)  \n",
            "Vieram os autos a esta Cheﬁa Institucional para solução do impasse (ﬂs. 170).  \n",
            "Eis a síntese do necessário.  \n",
            "A remessa se fundamenta no art. 115 da Lei Complementar Estadual n.º 734/93, encontrando -\n",
            "se conﬁgurado, portanto, o incidente supramencionado entre promotores de justiça.   \n",
            "C o m o  d e s t a c a  H U G O  N I G R O  M A Z Z I L L I ,  t a l  i n c i d e n t e  t e m  l u g a r  q u a n d o  o  m e m b r o  d o  \n",
            "Ministério Público nega a própria atribuição funcional e a atribui a outro, que já a tenha recusado (conﬂito negativo), ou quando dois ou mais deles manifestam, simultaneamente, atos que importem\n"
          ]
        }
      ]
    },
    {
      "cell_type": "code",
      "source": [
        "# Initialize a persistent ChromaDB client\n",
        "client = chromadb.PersistentClient(path=\"/content/drive/MyDrive/pdfs_para_rag/chroma_db\")\n",
        "\n",
        "# Load the SentenceTransformer model for text embeddings\n",
        "text_embedding_model = SentenceTransformer('all-MiniLM-L6-v2')\n",
        "\n",
        "# Delete existing collection (if needed)\n",
        "try:\n",
        "    client.delete_collection(name=\"knowledge_base\")\n",
        "    print(\"Deleted existing collection: knowledge_base\")\n",
        "except Exception as e:\n",
        "    print(f\"Collection does not exist or could not be deleted: {e}\")\n",
        "\n",
        "# Create a new collection for text embeddings\n",
        "collection = client.create_collection(name=\"knowledge_base\")\n",
        "\n",
        "# Add text chunks to the collection\n",
        "for i, chunk in enumerate(chunks):\n",
        "    # Generate embeddings for the chunk\n",
        "    embedding = text_embedding_model.encode(chunk)\n",
        "\n",
        "    # Add to the collection with metadata\n",
        "    collection.add(\n",
        "        ids=[f\"chunk_{i}\"],  # Unique ID for each chunk\n",
        "        embeddings=[embedding.tolist()],  # Embedding vector\n",
        "        metadatas=[{\"source\": \"pdf\", \"chunk_id\": i}],  # Metadata\n",
        "        documents=[chunk]  # Original text\n",
        "    )"
      ],
      "metadata": {
        "colab": {
          "base_uri": "https://localhost:8080/"
        },
        "id": "SXVnW9GhbCaG",
        "outputId": "2b7f9057-fb1b-4433-a382-af03499151b2"
      },
      "execution_count": 13,
      "outputs": [
        {
          "output_type": "stream",
          "name": "stdout",
          "text": [
            "Deleted existing collection: knowledge_base\n"
          ]
        }
      ]
    },
    {
      "cell_type": "code",
      "source": [
        "def semantic_search(query, top_k=4):\n",
        "    # Generate embedding for the query\n",
        "    query_embedding = text_embedding_model.encode(query)\n",
        "\n",
        "    # Query the collection\n",
        "    results = collection.query(\n",
        "        query_embeddings=[query_embedding.tolist()],\n",
        "        n_results=top_k\n",
        "    )\n",
        "    return results"
      ],
      "metadata": {
        "id": "rNJPrMkInZMN"
      },
      "execution_count": 14,
      "outputs": []
    },
    {
      "cell_type": "code",
      "source": [
        "# Example query\n",
        "query = \"o que é violência de gênero?\"\n",
        "results = semantic_search(query)\n",
        "\n",
        "# Display results\n",
        "for i, result in enumerate(results['documents'][0]):\n",
        "    print(f\"Result {i+1}:\\n{result}\\n\")\n",
        "    print(\"*\" * 60 + '\\n')"
      ],
      "metadata": {
        "colab": {
          "base_uri": "https://localhost:8080/"
        },
        "id": "OK_KbxyDbH5a",
        "outputId": "1398c256-5280-4626-8e12-64e833d45765"
      },
      "execution_count": 36,
      "outputs": [
        {
          "output_type": "stream",
          "name": "stdout",
          "text": [
            "Result 1:\n",
            "cumprimento da pena em regime aberto.  \n",
            "  \n",
            "    \n",
            "  \n",
            " \n",
            "    \n",
            " \n",
            "   \n",
            " \n",
            "   \n",
            " \n",
            "   \n",
            " \n",
            "   \n",
            " \n",
            "   \n",
            " \n",
            "   \n",
            "Núcleo de Gênero    \n",
            "1661 \n",
            " \n",
            "  \n",
            "Boletim Criminal COMENTADO  \n",
            "– \n",
            "  \n",
            "n° 2  \n",
            "44  \n",
            "- \n",
            "Setembro  \n",
            "- \n",
            "202  \n",
            "3 \n",
            "  \n",
            "1.  Tema: Barreiras para acesso à Justiça  \n",
            " \n",
            "  \n",
            "Quando se fala em violência de gênero, existem obstáculos ao direito à igualdade no acesso à \n",
            "justiça, que podem ser históricos, como a percepção da violência doméstica como um problema \n",
            "privado, a discriminação de gênero (viés de gênero ou gender bias ) e discriminações previstas \n",
            "pelo Estado, tais como, onde ainda existe, a aceitação legal de estupro marital. Podem, \n",
            "também, ser  estruturais, dos quais são exemplos a minimização da violência contra a mulher, a culpabilização da vítima e a descrença indevida na  palavra dela. Podem, da mesma forma, ser\n",
            "\n",
            "************************************************************\n",
            "\n",
            "Result 2:\n",
            "“as declarações da vítima qualiﬁcam -se como meio de prova, de \n",
            "inquestionável importância quando se discute violência de gênero, \n",
            "realçada a hipossuﬁciência processual da ofendida, que se vê silenciada  pela impossibilidade de demonstrar que não consentiu \n",
            "com a violência, realçando a pouca credibilidade dada à palavra da mulher vítima, especialmente nos delitos contra a dignidade sexual, sobre ela recaindo o difícil ônus de provar a violência sofrida.  \n",
            "Faz parte do julgamento com perspectiva de gênero a alta valoração \n",
            "das declarações da mulher vítima de violência de gênero, não se \n",
            "cogitando de desequilíbrio processual. O peso probatório \n",
            "diferenciado se legitima pela vulnerabilidade e hipossuﬁciência da \n",
            "ofendida na relação jurídica processual, qualiﬁcando -se a atividade \n",
            "jurisdicional, desenvolvida nesses moldes, como imparcial e de acordo com o aspecto material do princ ípio da igualdade  (art. 5º, \n",
            "inciso I, da Constituição Federal)”. (grifo nosso).\n",
            "\n",
            "************************************************************\n",
            "\n",
            "Result 3:\n",
            "corretivo\", pois a violência geralmente é empregada porque alguém teria transgredido algo, \n",
            "tendo por ﬁnalidade negar e “corrigir” a identidade de gênero reconhecida pelo sujeito, \n",
            "impondo -lhe um papel estabelecido socialmente a partir de diferenças de sexo baseadas na \n",
            "biologia. Como estabelece o Protocolo de Julgamento com a Perspectiva de Gênero citado pelo \n",
            "juiz, a violência de gênero é aquela que ocorre em razão de desigualdades estruturais de gênero, a partir de fatores materiais (dependência ﬁnanceira), culturais (cultura do estupro), \n",
            "ideológicos (erotização da subordinação) e relacionados ao exercício de poder e de dominação \n",
            "(estupros “corretivos”).   \n",
            "Além disso, não se nega que homens trans são pessoas cujos corpos, em geral, têm útero, \n",
            "capazes de menstruar e engravidar, possibilitando performances disruptivas que são lidas em \"confronto\" do binarismo. O autor da violência, que tem como único padrão a  \n",
            "1778 \n",
            " \n",
            "  \n",
            "Boletim Criminal COMENTADO  \n",
            "– \n",
            "  \n",
            "n° 2  \n",
            "4 \n",
            "7 \n",
            "-\n",
            "\n",
            "************************************************************\n",
            "\n",
            "Result 4:\n",
            "A Lei nº 11.340/2006 (Lei Maria da Penha), ao dispor sobre os mecanismos para coibir a violência \n",
            "contra a mulher, estabelece, dentre as políticas públicas para o enfrentamento da violência de gênero, a “promoção de programas educacionais que disseminem val ores éticos de irrestrito \n",
            "respeito à dignidade da pessoa humana com a perspectiva de gênero, raça e etnia”, bem como “o destaque, nos currículos escolares de todos os níveis de ensino, para os conteúdos relativos aos direitos humanos, à equidade de gênero e de raça ou etniia e ao problema da violência doméstica e familiar contra a mulher” (incisos VIII e IX, art. 8º).  \n",
            "Embora ela, promulgada em agosto de 2006, já viesse acompanhada da Lei Estadual Paulista \n",
            "nº 12.284, de 22 de fevereiro de 2006, que autorizou o Poder Executivo a estabelecer como conteúdo obrigatório no ensino fundamental e médio a crítica da violência dom éstica e da\n",
            "\n",
            "************************************************************\n",
            "\n"
          ]
        }
      ]
    },
    {
      "cell_type": "code",
      "source": [
        "# Set up LiteLLM\n",
        "\n",
        "def generate_response(query, context):\n",
        "    # Combine the query and context for the prompt\n",
        "    prompt = f\"Query: {query}\\nContext: {context}\\nAnswer:\"\n",
        "\n",
        "    # Call the model via LiteLLM\n",
        "    response = completion(\n",
        "        model=model,\n",
        "        messages=[{\"content\": prompt, \"role\": \"user\"}],\n",
        "        api_key= api_key\n",
        "    )\n",
        "\n",
        "    # Extract and return the generated text\n",
        "    return response['choices'][0]['message']['content']\n",
        "\n",
        "# Retrieve the top results from semantic search\n",
        "search_results = semantic_search(query)\n",
        "context = \"\\n\".join(search_results['documents'][0])\n",
        "\n",
        "# Generate a response using the retrieved context\n",
        "response = generate_response(query, context)\n",
        "\n",
        "print(\"Generated Response:\\n\")\n",
        "display(Markdown(response))"
      ],
      "metadata": {
        "colab": {
          "base_uri": "https://localhost:8080/",
          "height": 700
        },
        "id": "_kr5OZyKbLjQ",
        "outputId": "17a0021e-6ab3-4da2-cd00-f79c8cacfc9d"
      },
      "execution_count": 37,
      "outputs": [
        {
          "output_type": "stream",
          "name": "stdout",
          "text": [
            "Generated Response:\n",
            "\n"
          ]
        },
        {
          "output_type": "display_data",
          "data": {
            "text/plain": [
              "<IPython.core.display.Markdown object>"
            ],
            "text/markdown": "**Violência de gênero** é qualquer forma de violência direcionada a uma pessoa em razão de seu gênero, identidade de gênero ou expressão de gênero, sustentada por desigualdades estruturais e relações de poder historicamente desiguais entre homens e mulheres, bem como por normas sociais que reforçam estereótipos e discriminações.  \n\n### **Características e Contexto (com base no texto fornecido):**  \n1. **Raiz Estrutural**:  \n   - Decorrente de desigualdades históricas, culturais e materiais (ex.: dependência financeira, cultura do estupro, erotização da subordinação).  \n   - Inclui violências \"corretivas\", que buscam impor papéis de gênero tradicionais (ex.: violência contra pessoas LGBTQIA+ que desafiam o binarismo).  \n\n2. **Manifestações**:  \n   - **Violência doméstica**: Tradicionalmente tratada como \"problema privado\", com vítimas frequentemente culpabilizadas.  \n   - **Barreiras no acesso à justiça**: Descrença na palavra da vítima (especialmente em crimes sexuais), minimização da violência e exigência de provas adicionais além do relato da vítima.  \n   - **Discriminação institucional**: Ex.: leis que historicamente permitiam estupro marital ou negavam proteção a grupos marginalizados (como homens trans).  \n\n3. **Enquadramento Legal**:  \n   - A **Lei Maria da Penha (Lei 11.340/2006)** reconhece a violência de gênero contra mulheres e prevê políticas públicas para combatê-la, incluindo educação sobre equidade de gênero.  \n   - **Protocolos de julgamento com perspectiva de gênero** destacam a necessidade de valorizar o relato da vítima, considerando sua vulnerabilidade processual (ex.: hipossuficiência em casos de violência sexual).  \n\n4. **Aspectos Sociais**:  \n   - Envolve estereótipos que naturalizam a dominação masculina e a submissão feminina.  \n   - Afeta não apenas mulheres cisgênero, mas também pessoas trans e não binárias, cujas identidades são frequentemente alvo de violência \"corretiva\".  \n\n### **Exemplos citados no texto**:  \n- **Estupro marital**: Historicamente tolerado por leis que negavam autonomia feminina.  \n- **Culpabilização da vítima**: Exigir que a vítima prove que \"não consentiu\" com a violência.  \n- **Violência contra homens trans**: Corpos lidos como \"desviantes\" do binarismo de gênero.  \n\n### **Conclusão**:  \nA violência de gênero é um fenômeno complexo, alimentado por estruturas sociais e jurídicas que perpetuam desigualdades. Seu combate exige mudanças culturais, educacionais e legais, como as previstas na Lei Maria da Penha e em protocolos que priorizam a escuta qualificada das vítimas.  \n\n*(Resposta sintetizada a partir do contexto jurídico e social apresentado no boletim.)*"
          },
          "metadata": {}
        }
      ]
    },
    {
      "cell_type": "code",
      "source": [
        "search_results"
      ],
      "metadata": {
        "colab": {
          "base_uri": "https://localhost:8080/"
        },
        "id": "XjPSaRzS19nz",
        "outputId": "4160e0fc-1420-43e0-914f-e525737c6145"
      },
      "execution_count": 38,
      "outputs": [
        {
          "output_type": "execute_result",
          "data": {
            "text/plain": [
              "{'ids': [['chunk_3357', 'chunk_3650', 'chunk_3592', 'chunk_1603']],\n",
              " 'embeddings': None,\n",
              " 'documents': [['cumprimento da pena em regime aberto.  \\n  \\n    \\n  \\n \\n    \\n \\n   \\n \\n   \\n \\n   \\n \\n   \\n \\n   \\n \\n   \\nNúcleo de Gênero    \\n1661 \\n \\n  \\nBoletim Criminal COMENTADO  \\n– \\n  \\nn° 2  \\n44  \\n- \\nSetembro  \\n- \\n202  \\n3 \\n  \\n1.  Tema: Barreiras para acesso à Justiça  \\n \\n  \\nQuando se fala em violência de gênero, existem obstáculos ao direito à igualdade no acesso à \\njustiça, que podem ser históricos, como a percepção da violência doméstica como um problema \\nprivado, a discriminação de gênero (viés de gênero ou gender bias ) e discriminações previstas \\npelo Estado, tais como, onde ainda existe, a aceitação legal de estupro marital. Podem, \\ntambém, ser  estruturais, dos quais são exemplos a minimização da violência contra a mulher, a culpabilização da vítima e a descrença indevida na  palavra dela. Podem, da mesma forma, ser',\n",
              "   '“as declarações da vítima qualiﬁcam -se como meio de prova, de \\ninquestionável importância quando se discute violência de gênero, \\nrealçada a hipossuﬁciência processual da ofendida, que se vê silenciada  pela impossibilidade de demonstrar que não consentiu \\ncom a violência, realçando a pouca credibilidade dada à palavra da mulher vítima, especialmente nos delitos contra a dignidade sexual, sobre ela recaindo o difícil ônus de provar a violência sofrida.  \\nFaz parte do julgamento com perspectiva de gênero a alta valoração \\ndas declarações da mulher vítima de violência de gênero, não se \\ncogitando de desequilíbrio processual. O peso probatório \\ndiferenciado se legitima pela vulnerabilidade e hipossuﬁciência da \\nofendida na relação jurídica processual, qualiﬁcando -se a atividade \\njurisdicional, desenvolvida nesses moldes, como imparcial e de acordo com o aspecto material do princ ípio da igualdade  (art. 5º, \\ninciso I, da Constituição Federal)”. (grifo nosso).',\n",
              "   'corretivo\", pois a violência geralmente é empregada porque alguém teria transgredido algo, \\ntendo por ﬁnalidade negar e “corrigir” a identidade de gênero reconhecida pelo sujeito, \\nimpondo -lhe um papel estabelecido socialmente a partir de diferenças de sexo baseadas na \\nbiologia. Como estabelece o Protocolo de Julgamento com a Perspectiva de Gênero citado pelo \\njuiz, a violência de gênero é aquela que ocorre em razão de desigualdades estruturais de gênero, a partir de fatores materiais (dependência ﬁnanceira), culturais (cultura do estupro), \\nideológicos (erotização da subordinação) e relacionados ao exercício de poder e de dominação \\n(estupros “corretivos”).   \\nAlém disso, não se nega que homens trans são pessoas cujos corpos, em geral, têm útero, \\ncapazes de menstruar e engravidar, possibilitando performances disruptivas que são lidas em \"confronto\" do binarismo. O autor da violência, que tem como único padrão a  \\n1778 \\n \\n  \\nBoletim Criminal COMENTADO  \\n– \\n  \\nn° 2  \\n4 \\n7 \\n-',\n",
              "   'A Lei nº 11.340/2006 (Lei Maria da Penha), ao dispor sobre os mecanismos para coibir a violência \\ncontra a mulher, estabelece, dentre as políticas públicas para o enfrentamento da violência de gênero, a “promoção de programas educacionais que disseminem val ores éticos de irrestrito \\nrespeito à dignidade da pessoa humana com a perspectiva de gênero, raça e etnia”, bem como “o destaque, nos currículos escolares de todos os níveis de ensino, para os conteúdos relativos aos direitos humanos, à equidade de gênero e de raça ou etniia e ao problema da violência doméstica e familiar contra a mulher” (incisos VIII e IX, art. 8º).  \\nEmbora ela, promulgada em agosto de 2006, já viesse acompanhada da Lei Estadual Paulista \\nnº 12.284, de 22 de fevereiro de 2006, que autorizou o Poder Executivo a estabelecer como conteúdo obrigatório no ensino fundamental e médio a crítica da violência dom éstica e da']],\n",
              " 'uris': None,\n",
              " 'included': ['metadatas', 'documents', 'distances'],\n",
              " 'data': None,\n",
              " 'metadatas': [[{'source': 'pdf', 'chunk_id': 3357},\n",
              "   {'source': 'pdf', 'chunk_id': 3650},\n",
              "   {'source': 'pdf', 'chunk_id': 3592},\n",
              "   {'source': 'pdf', 'chunk_id': 1603}]],\n",
              " 'distances': [[0.6023747324943542,\n",
              "   0.6399364471435547,\n",
              "   0.6414998173713684,\n",
              "   0.6420817971229553]]}"
            ]
          },
          "metadata": {},
          "execution_count": 38
        }
      ]
    }
  ]
}