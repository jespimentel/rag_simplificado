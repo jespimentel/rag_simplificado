{
  "nbformat": 4,
  "nbformat_minor": 0,
  "metadata": {
    "colab": {
      "provenance": [],
      "mount_file_id": "1Br7h4eG47j0XwVlADcg3sAU4c29HsA17",
      "authorship_tag": "ABX9TyPiu9VcP71VjjfXq+tXdiXz",
      "include_colab_link": true
    },
    "kernelspec": {
      "name": "python3",
      "display_name": "Python 3"
    },
    "language_info": {
      "name": "python"
    }
  },
  "cells": [
    {
      "cell_type": "markdown",
      "metadata": {
        "id": "view-in-github",
        "colab_type": "text"
      },
      "source": [
        "<a href=\"https://colab.research.google.com/github/jespimentel/rag_simplificado/blob/main/rag_simplificado.ipynb\" target=\"_parent\"><img src=\"https://colab.research.google.com/assets/colab-badge.svg\" alt=\"Open In Colab\"/></a>"
      ]
    },
    {
      "cell_type": "markdown",
      "source": [
        "## Exemplo de RAG\n",
        "### com Chroma DB e LiteLLM\n",
        "\n",
        "\n",
        "\n",
        "Baseado nos artigos:\n",
        "* https://www.nb-data.com/p/simple-rag-implementation-with-contextual\n",
        "* https://medium.com/@rahultiwari065/unlocking-the-power-of-sentence-embeddings-with-all-minilm-l6-v2-7d6589a5f0aa\n",
        "\n",
        "---"
      ],
      "metadata": {
        "id": "z0YDhXtEZ3aT"
      }
    },
    {
      "cell_type": "code",
      "execution_count": 1,
      "metadata": {
        "id": "1DUR7Rv6Zw-r"
      },
      "outputs": [],
      "source": [
        "!pip install -q chromadb pypdf2 sentence-transformers litellm langchain\n",
        "!pip install -q sympy"
      ]
    },
    {
      "cell_type": "code",
      "source": [
        "import os\n",
        "import PyPDF2\n",
        "from sentence_transformers import SentenceTransformer\n",
        "import chromadb\n",
        "from chromadb.config import Settings\n",
        "import litellm\n",
        "from litellm import completion\n",
        "from langchain.text_splitter import RecursiveCharacterTextSplitter\n",
        "from IPython.display import Markdown, display\n",
        "from google.colab import userdata"
      ],
      "metadata": {
        "id": "ftjKIKC-qlGY"
      },
      "execution_count": 2,
      "outputs": []
    },
    {
      "cell_type": "code",
      "source": [
        "model = 'deepseek/deepseek-chat'\n",
        "api_key = userdata.get('DEEPSEEK_KEY')\n",
        "\n",
        "os.environ['LITELLM_LOG'] = 'DEBUG'\n",
        "HF_TOKEN = userdata.get('HF_TOKEN')"
      ],
      "metadata": {
        "id": "qIGZZ-Fzawpo"
      },
      "execution_count": 3,
      "outputs": []
    },
    {
      "cell_type": "code",
      "source": [
        "def extract_text_from_pdfs(folder_path):\n",
        "    all_text = \"\"\n",
        "    for filename in os.listdir(folder_path):\n",
        "        if filename.endswith(\".pdf\"):\n",
        "            file_path = os.path.join(folder_path, filename)\n",
        "            with open(file_path, 'rb') as file:\n",
        "                print(f\"Lendo o arquivo {filename}\")\n",
        "                reader = PyPDF2.PdfReader(file)\n",
        "                for page in reader.pages:\n",
        "                    all_text += page.extract_text()\n",
        "    return all_text\n",
        "\n",
        "pdf_folder = \"/content/drive/MyDrive/pdfs_para_rag\"\n",
        "all_text = extract_text_from_pdfs(pdf_folder)"
      ],
      "metadata": {
        "colab": {
          "base_uri": "https://localhost:8080/"
        },
        "id": "LNPRz81xa5UE",
        "outputId": "7c7f7d78-55b5-4c72-a8bf-3a7d0901826c"
      },
      "execution_count": 4,
      "outputs": [
        {
          "output_type": "stream",
          "name": "stdout",
          "text": [
            "Lendo o arquivo PVDESF_portugues.pdf\n",
            "Lendo o arquivo cartilhadireitosmulher_web.pdf\n",
            "Lendo o arquivo Cartilhaenfrentamento_QRCODE1.pdf\n",
            "Lendo o arquivo Cartilha-violencia-contra-mulher.pdf\n",
            "Lendo o arquivo Cartilha_ViolenciaDomestica_18.07.2022.pdf\n",
            "Lendo o arquivo CARTILHA FORÇA DA REDE.pdf\n",
            "Lendo o arquivo cartilha-combate-violencia-politica-forum-paulista.pdf\n"
          ]
        }
      ]
    },
    {
      "cell_type": "code",
      "source": [
        "print(len(all_text))"
      ],
      "metadata": {
        "colab": {
          "base_uri": "https://localhost:8080/"
        },
        "id": "C7ucVZiKelzz",
        "outputId": "e22d04cb-ba49-46d0-9c5e-5c3abee78bb6"
      },
      "execution_count": 5,
      "outputs": [
        {
          "output_type": "stream",
          "name": "stdout",
          "text": [
            "1188944\n"
          ]
        }
      ]
    },
    {
      "cell_type": "code",
      "source": [
        "all_text[6000:7000]"
      ],
      "metadata": {
        "colab": {
          "base_uri": "https://localhost:8080/",
          "height": 198
        },
        "id": "FAGIdcB8derX",
        "outputId": "9878c0a9-bf8c-421c-fd0a-456ffc374648"
      },
      "execution_count": 6,
      "outputs": [
        {
          "output_type": "execute_result",
          "data": {
            "text/plain": [
              "'heres idosas ....................................................................................................................................................................................................... 17\\nAs mulheres negras ......................................................................................................................................................................................................................................... 18\\nAs mulheres com deficiência ...................................................................................................................................................................................................................... 19\\nMulheres imigrantes ........................................................................................................................................................................................................................................ 20\\nAs mulheres lésbicas e tra'"
            ],
            "application/vnd.google.colaboratory.intrinsic+json": {
              "type": "string"
            }
          },
          "metadata": {},
          "execution_count": 6
        }
      ]
    },
    {
      "cell_type": "code",
      "source": [
        "text_splitter = RecursiveCharacterTextSplitter(\n",
        "    chunk_size=500,  # Size of each chunk\n",
        "    chunk_overlap=50,  # Overlap between chunks to maintain context\n",
        "    separators=[\"\\n\\n\", \"\\n\", \" \", \"\"]  # Splitting hierarchy\n",
        ")\n",
        "\n",
        "chunks = text_splitter.split_text(all_text)"
      ],
      "metadata": {
        "id": "l3QVG8l1bBRs"
      },
      "execution_count": 7,
      "outputs": []
    },
    {
      "cell_type": "code",
      "source": [
        "print(len(chunks))"
      ],
      "metadata": {
        "colab": {
          "base_uri": "https://localhost:8080/"
        },
        "id": "MQ6fz4VbetOx",
        "outputId": "39067160-21b0-4605-fbda-c6c1284ca410"
      },
      "execution_count": 8,
      "outputs": [
        {
          "output_type": "stream",
          "name": "stdout",
          "text": [
            "2692\n"
          ]
        }
      ]
    },
    {
      "cell_type": "code",
      "source": [
        "print(chunks[50])"
      ],
      "metadata": {
        "colab": {
          "base_uri": "https://localhost:8080/"
        },
        "id": "8SQ8JVZEewId",
        "outputId": "5483c6f9-c810-41d5-c114-ceee80c40e35"
      },
      "execution_count": 9,
      "outputs": [
        {
          "output_type": "stream",
          "name": "stdout",
          "text": [
            "WALKER, Lenore E. The battered woman. NY: Harper Perennial, 1979.\n",
            "2\n",
            "1\n",
            "3\n",
            "Fase 3\n",
            "L ua de mel\n",
            "Fase 2\n",
            "Explosão\n",
            "Fase 1\n",
            "Evolução da tensão\n",
            "Ciclo da Violência\n",
            "Doméstica\n",
            "C\n",
            "M\n",
            "Y\n",
            "CM\n",
            "MY\n",
            "CY\n",
            "CMY\n",
            "KPVDESF_SP_2020-contratoSEBRAE.pdf   12   07/10/2020   15:24:14Ciclo da Violência Doméstica e Familiar contra as Mulheres\n",
            "Fase 1 – Evolução da T ensão: O parceiro apresenta comportamento \n",
            "ameaçador e violento, humilha e xinga a sua parceira, destrói objetos da\n"
          ]
        }
      ]
    },
    {
      "cell_type": "code",
      "source": [
        "# Initialize a persistent ChromaDB client\n",
        "client = chromadb.PersistentClient(path=\"/content/drive/MyDrive/pdfs_para_rag/chroma_db\")\n",
        "\n",
        "# Load the SentenceTransformer model for text embeddings\n",
        "text_embedding_model = SentenceTransformer('all-MiniLM-L6-v2')\n",
        "\n",
        "# Delete existing collection (if needed)\n",
        "try:\n",
        "    client.delete_collection(name=\"knowledge_base\")\n",
        "    print(\"Deleted existing collection: knowledge_base\")\n",
        "except Exception as e:\n",
        "    print(f\"Collection does not exist or could not be deleted: {e}\")\n",
        "\n",
        "# Create a new collection for text embeddings\n",
        "collection = client.create_collection(name=\"knowledge_base\")\n",
        "\n",
        "# Add text chunks to the collection\n",
        "for i, chunk in enumerate(chunks):\n",
        "    # Generate embeddings for the chunk\n",
        "    embedding = text_embedding_model.encode(chunk)\n",
        "\n",
        "    # Add to the collection with metadata\n",
        "    collection.add(\n",
        "        ids=[f\"chunk_{i}\"],  # Unique ID for each chunk\n",
        "        embeddings=[embedding.tolist()],  # Embedding vector\n",
        "        metadatas=[{\"source\": \"pdf\", \"chunk_id\": i}],  # Metadata\n",
        "        documents=[chunk]  # Original text\n",
        "    )"
      ],
      "metadata": {
        "colab": {
          "base_uri": "https://localhost:8080/"
        },
        "id": "SXVnW9GhbCaG",
        "outputId": "a51a40d9-cd9d-45ca-f2bc-d452d417fe6d"
      },
      "execution_count": 10,
      "outputs": [
        {
          "output_type": "stream",
          "name": "stdout",
          "text": [
            "Collection does not exist or could not be deleted: Collection [knowledge_base] does not exists\n"
          ]
        }
      ]
    },
    {
      "cell_type": "code",
      "source": [
        "def semantic_search(query, top_k=5):\n",
        "    # Generate embedding for the query\n",
        "    query_embedding = text_embedding_model.encode(query)\n",
        "\n",
        "    # Query the collection\n",
        "    results = collection.query(\n",
        "        query_embeddings=[query_embedding.tolist()],\n",
        "        n_results=top_k\n",
        "    )\n",
        "    return results"
      ],
      "metadata": {
        "id": "rNJPrMkInZMN"
      },
      "execution_count": 11,
      "outputs": []
    },
    {
      "cell_type": "code",
      "source": [
        "# Example query\n",
        "query = \"Quais os números dos telefones de emergência?\"\n",
        "results = semantic_search(query)\n",
        "\n",
        "# Display results\n",
        "for i, result in enumerate(results['documents'][0]):\n",
        "    print(f\"Result {i+1}:\\n{result}\\n\")\n",
        "    print(\"*\" * 60 + '\\n')"
      ],
      "metadata": {
        "colab": {
          "base_uri": "https://localhost:8080/"
        },
        "id": "OK_KbxyDbH5a",
        "outputId": "798ac3b8-6770-4d18-e7bc-55685ae32be1"
      },
      "execution_count": 12,
      "outputs": [
        {
          "output_type": "stream",
          "name": "stdout",
          "text": [
            "Result 1:\n",
            "Doméstica sempre que mudar de endereço e telefone – isso viabiliza sua \n",
            "proteção pessoal de modo rápido e eficaz, facilitando o acionamento da \n",
            "Ronda Maria da Penha, Polícias Civil e Militar em caso de necessidade, além \n",
            "auxiliar o andamento das ações judiciais;\n",
            "• Sobre partilhas de bens, seus direitos serão garantidos; as medidas \n",
            "protetivas são temporárias e não implicam em partilha definitiva de bens, \n",
            "o que pode ser feito por meio de acordo (mais recomendado) ou processo\n",
            "\n",
            "************************************************************\n",
            "\n",
            "Result 2:\n",
            "CONHEÇA UM POUCO DOS \n",
            "SERVIÇOS DA REDE\n",
            "DELEGACIA ESPECIALIZADA DE\n",
            "ATENDIMENTO À MULHER-DEAM\n",
            "MINISTÉRIO PÚBLICO - MP/RN \n",
            "(9° PROMOTORIA DE JUSTIÇA DA COMARCA DE MOSSORÓ)\n",
            "DELEGACIAS DE PLANTÃO\n",
            "PATRULHA MARIA DA PENHA (Guarda Municipal): \n",
            "A patrulha realiza ações que vão desde ações educativas nas \n",
            "escolas, órgãos e instituições até o apoio no cumprimento \n",
            "de medidas protetivas, garantindo assistência às mulheres. E \n",
            "denúncias podem ser feitas pelos telefones 153 e (84) 98631-7000.\n",
            "\n",
            "************************************************************\n",
            "\n",
            "Result 3:\n",
            "22,23 e 24 da Lei), aplicadas pelo(a) Juiz(a) em até 48 horas após o pedido da mulher, do Ministério \n",
            "Público ou da Defensoria Pública. As principais medidas protetivas são:\n",
            "O afastamento do agressor do lar, domicílio ou local de convivência com \n",
            "a vítima;\n",
            "Proibição de contato com a vítima por quaisquer meios (telefone, redes \n",
            "sociais, e-mails), com os familiares ou testemunhas dela;\n",
            "Proibição de se aproximar da vítima, seus familiares ou testemunhas,\n",
            "\n",
            "************************************************************\n",
            "\n",
            "Result 4:\n",
            "Ele pode te ajudar a saber se está em situação de violência ou\n",
            "se alguém que você conhece está. \n",
            "(Marque com um x quando a resposta for SIM) \n",
            "Ele controla ou tenta controlar o tipo de roupa que você usa?\n",
            "T enta isolar você de sua família ou de seus amigos?\n",
            "T em ciúmes excessivos ou imagina traições?\n",
            "Controla seus horários?\n",
            "Diz que você não precisa trabalhar ou estudar?\n",
            "Controla as ligações no seu telefone?\n",
            "T em a senha de seu e-mail e/ou redes sociais?\n",
            "Controla seu salário e/ou seus bens?\n",
            "\n",
            "************************************************************\n",
            "\n",
            "Result 5:\n",
            "Parágrafo único. As Secretarias de Segurança Pública dos Estados e do Distrito Federal poderão remeter suas informações \n",
            "criminais para a base de dados do Ministério da Justiça.\n",
            "Art. 38-A. O juiz competente providenciará o registro da medida protetiva de urgência.         (Incluído pela Lei nº 13.827, de 2019)\n",
            "Parágrafo único. As medidas protetivas de urgência serão registradas em banco de dados mantido e regulamentado pelo\n",
            "\n",
            "************************************************************\n",
            "\n"
          ]
        }
      ]
    },
    {
      "cell_type": "code",
      "source": [
        "# Set up LiteLLM\n",
        "\n",
        "def generate_response(query, context):\n",
        "    # Combine the query and context for the prompt\n",
        "    prompt = f\"Query: {query}\\nContext: {context}\\nAnswer:\"\n",
        "\n",
        "    # Call the model via LiteLLM\n",
        "    response = completion(\n",
        "        model=model,\n",
        "        messages=[{\"content\": prompt, \"role\": \"user\"}],\n",
        "        api_key= api_key\n",
        "    )\n",
        "\n",
        "    # Extract and return the generated text\n",
        "    return response['choices'][0]['message']['content']\n",
        "\n",
        "# Retrieve the top results from semantic search\n",
        "search_results = semantic_search(query)\n",
        "context = \"\\n\".join(search_results['documents'][0])\n",
        "\n",
        "# Generate a response using the retrieved context\n",
        "response = generate_response(query, context)\n",
        "\n",
        "print(\"Generated Response:\\n\")\n",
        "display(Markdown(response))"
      ],
      "metadata": {
        "colab": {
          "base_uri": "https://localhost:8080/",
          "height": 406
        },
        "id": "_kr5OZyKbLjQ",
        "outputId": "2a79ce14-73b5-40eb-85e5-2e9fffd6e186"
      },
      "execution_count": 13,
      "outputs": [
        {
          "output_type": "stream",
          "name": "stdout",
          "text": [
            "Generated Response:\n",
            "\n"
          ]
        },
        {
          "output_type": "display_data",
          "data": {
            "text/plain": [
              "<IPython.core.display.Markdown object>"
            ],
            "text/markdown": "Aqui estão os números de telefone de emergência mencionados no contexto, especialmente relacionados à proteção de mulheres em situação de violência:\n\n1. **Patrulha Maria da Penha (Guarda Municipal)**  \n   - **Telefones:**  \n     - **153** (para denúncias e apoio no cumprimento de medidas protetivas)  \n     - **(84) 98631-7000** (número direto)  \n\n2. **Delegacias Especializadas de Atendimento à Mulher (DEAM)**  \n   - Consulte a delegacia mais próxima em seu município. Em **Mossoró/RN**, a 9ª Promotoria de Justiça pode ser contatada para orientações.  \n\n3. **Números Nacionais de Emergência** (não citados no texto, mas essenciais):  \n   - **190** (Polícia Militar)  \n   - **180** (Central de Atendimento à Mulher – disque-denúncia anônimo)  \n   - **Disque 100** (Direitos Humanos, para violações em geral)  \n\n### Observações:  \n- O texto reforça a importância de atualizar seus contatos ao mudar de endereço para garantir acesso rápido a esses serviços.  \n- A **Patrulha Maria da Penha** também realiza ações educativas e auxilia no cumprimento de medidas protetivas.  \n\nCaso precise de ajuda imediata, priorize os números **153** (Guarda Municipal) ou **190** (emergência geral)."
          },
          "metadata": {}
        }
      ]
    },
    {
      "cell_type": "code",
      "source": [
        "search_results"
      ],
      "metadata": {
        "colab": {
          "base_uri": "https://localhost:8080/"
        },
        "id": "XjPSaRzS19nz",
        "outputId": "c9858099-24a9-4e66-a2e2-611dd4eefd96"
      },
      "execution_count": 14,
      "outputs": [
        {
          "output_type": "execute_result",
          "data": {
            "text/plain": [
              "{'ids': [['chunk_2578', 'chunk_2625', 'chunk_88', 'chunk_60', 'chunk_1287']],\n",
              " 'embeddings': None,\n",
              " 'documents': [['Doméstica sempre que mudar de endereço e telefone – isso viabiliza sua \\nproteção pessoal de modo rápido e eficaz, facilitando o acionamento da \\nRonda Maria da Penha, Polícias Civil e Militar em caso de necessidade, além \\nauxiliar o andamento das ações judiciais;\\n• Sobre partilhas de bens, seus direitos serão garantidos; as medidas \\nprotetivas são temporárias e não implicam em partilha definitiva de bens, \\no que pode ser feito por meio de acordo (mais recomendado) ou processo',\n",
              "   'CONHEÇA UM POUCO DOS \\nSERVIÇOS DA REDE\\nDELEGACIA ESPECIALIZADA DE\\nATENDIMENTO À MULHER-DEAM\\nMINISTÉRIO PÚBLICO - MP/RN \\n(9° PROMOTORIA DE JUSTIÇA DA COMARCA DE MOSSORÓ)\\nDELEGACIAS DE PLANTÃO\\nPATRULHA MARIA DA PENHA (Guarda Municipal): \\nA patrulha realiza ações que vão desde ações educativas nas \\nescolas, órgãos e instituições até o apoio no cumprimento \\nde medidas protetivas, garantindo assistência às mulheres. E \\ndenúncias podem ser feitas pelos telefones 153 e (84) 98631-7000.',\n",
              "   '22,23 e 24 da Lei), aplicadas pelo(a) Juiz(a) em até 48 horas após o pedido da mulher, do Ministério \\nPúblico ou da Defensoria Pública. As principais medidas protetivas são:\\n\\uf0c4O afastamento do agressor do lar, domicílio ou local de convivência com \\na vítima;\\n\\uf0c4Proibição de contato com a vítima por quaisquer meios (telefone, redes \\nsociais, e-mails), com os familiares ou testemunhas dela;\\n\\uf0c4Proibição de se aproximar da vítima, seus familiares ou testemunhas,',\n",
              "   'Ele pode te ajudar a saber se está em situação de violência ou\\nse alguém que você conhece está. \\n(Marque com um x quando a resposta for SIM) \\nEle controla ou tenta controlar o tipo de roupa que você usa?\\nT enta isolar você de sua família ou de seus amigos?\\nT em ciúmes excessivos ou imagina traições?\\nControla seus horários?\\nDiz que você não precisa trabalhar ou estudar?\\nControla as ligações no seu telefone?\\nT em a senha de seu e-mail e/ou redes sociais?\\nControla seu salário e/ou seus bens?',\n",
              "   'Parágrafo único. As Secretarias de Segurança Pública dos Estados e do Distrito Federal poderão remeter suas informações \\ncriminais para a base de dados do Ministério da Justiça.\\nArt. 38-A. O juiz competente providenciará o registro da medida protetiva de urgência.         (Incluído pela Lei nº 13.827, de 2019)\\nParágrafo único. As medidas protetivas de urgência serão registradas em banco de dados mantido e regulamentado pelo']],\n",
              " 'uris': None,\n",
              " 'included': ['metadatas', 'documents', 'distances'],\n",
              " 'data': None,\n",
              " 'metadatas': [[{'chunk_id': 2578, 'source': 'pdf'},\n",
              "   {'source': 'pdf', 'chunk_id': 2625},\n",
              "   {'chunk_id': 88, 'source': 'pdf'},\n",
              "   {'source': 'pdf', 'chunk_id': 60},\n",
              "   {'chunk_id': 1287, 'source': 'pdf'}]],\n",
              " 'distances': [[0.6978160738945007,\n",
              "   0.8146035671234131,\n",
              "   0.8733231425285339,\n",
              "   0.9460417032241821,\n",
              "   1.005786418914795]]}"
            ]
          },
          "metadata": {},
          "execution_count": 14
        }
      ]
    },
    {
      "cell_type": "markdown",
      "source": [
        "# Outro exemplo"
      ],
      "metadata": {
        "id": "1Q6blACdDYpC"
      }
    },
    {
      "cell_type": "code",
      "source": [
        "# Example query\n",
        "query = \"O que é violência de gênero?\"\n",
        "results = semantic_search(query)\n",
        "\n",
        "# Display results\n",
        "for i, result in enumerate(results['documents'][0]):\n",
        "    print(f\"Result {i+1}:\\n{result}\\n\")\n",
        "    print(\"*\" * 60 + '\\n')"
      ],
      "metadata": {
        "colab": {
          "base_uri": "https://localhost:8080/"
        },
        "id": "YZpcI0xRDXn8",
        "outputId": "b06363e4-734b-45c7-91a3-cb5f15a555b3"
      },
      "execution_count": 15,
      "outputs": [
        {
          "output_type": "stream",
          "name": "stdout",
          "text": [
            "Result 1:\n",
            "idade, orientação sexual, diversidade de gênero, classe social, \n",
            "religião e do vínculo com o agressor.07\n",
            "APRESENTAÇÃO\n",
            "será que você sabe \n",
            "identificar o que é \n",
            "violência?PARA ENTENDERMOS A REDE, \n",
            "PRECISAMOS COMPREENDER \n",
            "ALGUNS CONCEITOS…\n",
            "De acordo com o art. 5º da Lei Maria da P enha, violência doméstica \n",
            "e familiar contra a mulher é “qualquer ação ou omissão baseada \n",
            "no gênero que lhe cause morte, lesão, sofrimento físico, sexual ou\n",
            "\n",
            "************************************************************\n",
            "\n",
            "Result 2:\n",
            "são física, violação sexual,  traumas psicológi -\n",
            "cos,  danos patrimoniais  e  até mesmo a morte \n",
            "de mulheres. Na maioria das vezes é  conside -\n",
            "rado um crime de ódio, uma vez que este tipo de violência está diretamente relacionado ao \n",
            "gênero da vítima.  Ou seja, os atos de violência \n",
            "são cometidos contra as mulheres deliberada\n",
            "-\n",
            "mente porque são mulheres. \n",
            "A partir do momento em que levamos em \n",
            "consideração que violência não se trata apenas do ato de agredir ou machucar, podemos enten\n",
            "-\n",
            "\n",
            "************************************************************\n",
            "\n",
            "Result 3:\n",
            "além da pena correspondente à violência.\n",
            "2. Como denunciar a violência política, geral e de \n",
            "gênero\n",
            "A questão da \n",
            "denúncia dos atos \n",
            "de violência política \n",
            "é extremamente \n",
            "relevante.\n",
            "Em pesquisa \n",
            "conduzida pelo \n",
            "Instituto Marielle \n",
            "Franco com 142 \n",
            "candidatas negras \n",
            "que concorreram \n",
            "às eleições de \n",
            "2020, apenas 32,6% \n",
            "das participantes \n",
            "afirmaram ter denunciado algum dos casos de violência que sofreu \n",
            "e, destas, 70% afirmaram que a denúncia e o encaminhamento\n",
            "\n",
            "************************************************************\n",
            "\n",
            "Result 4:\n",
            "O QUE É VIOLÊNCIA DOMÉSTICA\n",
            "CONTRA MULHER?\n",
            "Entende-se por violência contra a mulher qualquer ato ou conduta baseada no \n",
            "gênero, que cause morte, dano ou sofrimento físico, psicológico ou sexual, contra \n",
            "a mulher, na esfera pública ou privada, em razão do vínculo de natureza familiar \n",
            "ou afetiva.\n",
            "     \n",
            "A LEI MARIA DA PENHA\n",
            "Com o objetivo de pôr fim à violência de gênero, considerada atualmente a mais \n",
            "preocupante questão sociocultural, a Lei nº 11.340/2006, denominada Lei Maria\n",
            "\n",
            "************************************************************\n",
            "\n",
            "Result 5:\n",
            "intermédio de terceiros, no espaço físico ou no espaço virtual - “(…) o que 1. Como identificar e denunciar a violência política, \n",
            "que atinge principalmente mulheres, negros, a \n",
            "comunidade LGBTQIA+, pessoas com deficiência, indígenas e quilombolas.acontece online não é menos real e violento do que o que acontece offline.” \n",
            "(Guia para o enfrentamento da violência política de gênero do InternetLab \n",
            "junto com Redes Cordiais).\n",
            "Os perpetradores das violências podem ser:\n",
            "\n",
            "************************************************************\n",
            "\n"
          ]
        }
      ]
    },
    {
      "cell_type": "code",
      "source": [
        "# Retrieve the top results from semantic search\n",
        "search_results = semantic_search(query)\n",
        "context = \"\\n\".join(search_results['documents'][0])\n",
        "\n",
        "# Generate a response using the retrieved context\n",
        "response = generate_response(query, context)\n",
        "\n",
        "print(\"Generated Response:\\n\")\n",
        "display(Markdown(response))"
      ],
      "metadata": {
        "colab": {
          "base_uri": "https://localhost:8080/",
          "height": 506
        },
        "id": "ImEi6Gm7FED1",
        "outputId": "cd066ac2-9dbf-4f01-8752-8813242ef4e2"
      },
      "execution_count": 16,
      "outputs": [
        {
          "output_type": "stream",
          "name": "stdout",
          "text": [
            "Generated Response:\n",
            "\n"
          ]
        },
        {
          "output_type": "display_data",
          "data": {
            "text/plain": [
              "<IPython.core.display.Markdown object>"
            ],
            "text/markdown": "**Violência de gênero** é qualquer ação ou omissão baseada no gênero que cause dano físico, sexual, psicológico, patrimonial ou morte, direcionada principalmente contra mulheres e pessoas LGBTQIA+ em razão de sua identidade de gênero, orientação sexual ou posição social. É um crime de ódio, muitas vezes enraizado em desigualdades estruturais e discriminação.  \n\n### Principais características do contexto fornecido:  \n1. **Interseccionalidade**: A violência de gênero pode ser agravada por outros fatores como raça, classe social, religião, idade e vínculo com o agressor (como em relações domésticas ou afetivas).  \n2. **Formas de violência**:  \n   - **Física**: Agressões corporais.  \n   - **Psicológica**: Humilhação, controle ou ameaças.  \n   - **Sexual**: Estupro, assédio ou coerção.  \n   - **Patrimonial**: Destruição ou controle de bens materiais.  \n   - **Virtual**: Cyberbullying, difamação ou perseguição online.  \n3. **Lei Maria da Penha (Lei nº 11.340/2006)**: Define violência doméstica/familiar contra a mulher e estabelece mecanismos de proteção, incluindo medidas como afastamento do agressor e assistência social.  \n4. **Violência política de gênero**: Atinge principalmente mulheres, negros, LGBTQIA+, indígenas e outros grupos marginalizados em espaços de poder, muitas vezes subnotificada devido ao medo ou falta de canais eficazes de denúncia.  \n\n### Como identificar e denunciar:  \n- **Sinais**: Comportamento controlador, isolamento social, marcas físicas, mudanças abruptas de comportamento.  \n- **Canais**: Disque 180 (Brasil), delegacias especializadas, aplicativos como *Sine Mulher*, ou organizações como o Instituto Marielle Franco para violência política.  \n\n**Resumo**: Violência de gênero é uma manifestação de poder desigual, exigindo respostas legais, sociais e culturais para sua erradicação."
          },
          "metadata": {}
        }
      ]
    },
    {
      "cell_type": "code",
      "source": [
        "search_results"
      ],
      "metadata": {
        "colab": {
          "base_uri": "https://localhost:8080/"
        },
        "id": "tC9IH3KjFSdt",
        "outputId": "1b520180-9294-450e-f963-deda5d573b8a"
      },
      "execution_count": 17,
      "outputs": [
        {
          "output_type": "execute_result",
          "data": {
            "text/plain": [
              "{'ids': [['chunk_2604',\n",
              "   'chunk_2431',\n",
              "   'chunk_2684',\n",
              "   'chunk_2564',\n",
              "   'chunk_2672']],\n",
              " 'embeddings': None,\n",
              " 'documents': [['idade, orientação sexual, diversidade de gênero, classe social, \\nreligião e do vínculo com o agressor.07\\nAPRESENTAÇÃO\\nserá que você sabe \\nidentificar o que é \\nviolência?PARA ENTENDERMOS A REDE, \\nPRECISAMOS COMPREENDER \\nALGUNS CONCEITOS…\\nDe acordo com o art. 5º da Lei Maria da P enha, violência doméstica \\ne familiar contra a mulher é “qualquer ação ou omissão baseada \\nno gênero que lhe cause morte, lesão, sofrimento físico, sexual ou',\n",
              "   'são física, violação sexual,  traumas psicológi -\\ncos,  danos patrimoniais  e  até mesmo a morte \\nde mulheres. Na maioria das vezes é  conside -\\nrado um crime de ódio, uma vez que este tipo de violência está diretamente relacionado ao \\ngênero da vítima.  Ou seja, os atos de violência \\nsão cometidos contra as mulheres deliberada\\n-\\nmente porque são mulheres. \\nA partir do momento em que levamos em \\nconsideração que violência não se trata apenas do ato de agredir ou machucar, podemos enten\\n-',\n",
              "   'além da pena correspondente à violência.\\n2. Como denunciar a violência política, geral e de \\ngênero\\nA questão da \\ndenúncia dos atos \\nde violência política \\né extremamente \\nrelevante.\\nEm pesquisa \\nconduzida pelo \\nInstituto Marielle \\nFranco com 142 \\ncandidatas negras \\nque concorreram \\nàs eleições de \\n2020, apenas 32,6% \\ndas participantes \\nafirmaram ter denunciado algum dos casos de violência que sofreu \\ne, destas, 70% afirmaram que a denúncia e o encaminhamento',\n",
              "   'O QUE É VIOLÊNCIA DOMÉSTICA\\nCONTRA MULHER?\\nEntende-se por violência contra a mulher qualquer ato ou conduta baseada no \\ngênero, que cause morte, dano ou sofrimento físico, psicológico ou sexual, contra \\na mulher, na esfera pública ou privada, em razão do vínculo de natureza familiar \\nou afetiva.\\n     \\nA LEI MARIA DA PENHA\\nCom o objetivo de pôr fim à violência de gênero, considerada atualmente a mais \\npreocupante questão sociocultural, a Lei nº 11.340/2006, denominada Lei Maria',\n",
              "   'intermédio de terceiros, no espaço físico ou no espaço virtual - “(…) o que 1. Como identificar e denunciar a violência política, \\nque atinge principalmente mulheres, negros, a \\ncomunidade LGBTQIA+, pessoas com deficiência, indígenas e quilombolas.acontece online não é menos real e violento do que o que acontece offline.” \\n(Guia para o enfrentamento da violência política de gênero do InternetLab \\njunto com Redes Cordiais).\\nOs perpetradores das violências podem ser:']],\n",
              " 'uris': None,\n",
              " 'included': ['metadatas', 'documents', 'distances'],\n",
              " 'data': None,\n",
              " 'metadatas': [[{'chunk_id': 2604, 'source': 'pdf'},\n",
              "   {'source': 'pdf', 'chunk_id': 2431},\n",
              "   {'source': 'pdf', 'chunk_id': 2684},\n",
              "   {'source': 'pdf', 'chunk_id': 2564},\n",
              "   {'source': 'pdf', 'chunk_id': 2672}]],\n",
              " 'distances': [[0.4597904086112976,\n",
              "   0.5399653911590576,\n",
              "   0.5521952509880066,\n",
              "   0.5992525219917297,\n",
              "   0.6142587065696716]]}"
            ]
          },
          "metadata": {},
          "execution_count": 17
        }
      ]
    }
  ]
}